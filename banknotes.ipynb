{
 "cells": [
  {
   "cell_type": "code",
   "execution_count": 2,
   "metadata": {},
   "outputs": [],
   "source": [
    "# Ignore  the warnings\n",
    "import warnings\n",
    "warnings.filterwarnings('always')\n",
    "warnings.filterwarnings('ignore')\n",
    "\n",
    "# data visualisation and manipulation\n",
    "import numpy as np\n",
    "import pandas as pd\n",
    "import matplotlib.pyplot as plt\n",
    "from matplotlib import style\n",
    "import seaborn as sns\n",
    "\n",
    "#configure\n",
    "# sets matplotlib to inline and displays graphs below the corressponding cell.\n",
    "% matplotlib inline  \n",
    "style.use('fivethirtyeight')\n",
    "sns.set(style='whitegrid',color_codes=True)\n",
    "\n",
    "#import the necessary modelling algos.\n",
    "\n",
    "#classifiaction.\n",
    "from sklearn.linear_model import LogisticRegression\n",
    "from sklearn.svm import LinearSVC,SVC\n",
    "from sklearn.neighbors import KNeighborsClassifier\n",
    "from sklearn.ensemble import RandomForestClassifier,GradientBoostingClassifier,AdaBoostClassifier\n",
    "from sklearn.tree import DecisionTreeClassifier\n",
    "from sklearn.naive_bayes import GaussianNB\n",
    " \n",
    "\n",
    "#regression\n",
    "from sklearn.linear_model import LinearRegression,Ridge,Lasso,RidgeCV\n",
    "from sklearn.ensemble import RandomForestRegressor,BaggingRegressor,GradientBoostingRegressor,AdaBoostRegressor\n",
    "from sklearn.svm import SVR\n",
    "from sklearn.neighbors import KNeighborsRegressor\n",
    "\n",
    "#model selection\n",
    "from sklearn.model_selection import train_test_split,cross_validate\n",
    "from sklearn.model_selection import KFold\n",
    "from sklearn.model_selection import GridSearchCV\n",
    "\n",
    "#preprocessing\n",
    "from sklearn.preprocessing import MinMaxScaler,StandardScaler,Imputer,LabelEncoder\n",
    "\n",
    "#evaluation metrics\n",
    "from sklearn.metrics import mean_squared_log_error,mean_squared_error, r2_score,mean_absolute_error # for regression\n",
    "from sklearn.metrics import accuracy_score,precision_score,recall_score,f1_score  # for classification"
   ]
  },
  {
   "cell_type": "code",
   "execution_count": 4,
   "metadata": {},
   "outputs": [],
   "source": [
    "df=pd.read_csv('/home/dion/Desktop/banknotes.csv')\n",
    "df.columns=['a','b','c','d','e']\n"
   ]
  },
  {
   "cell_type": "code",
   "execution_count": 6,
   "metadata": {},
   "outputs": [],
   "source": [
    "from sklearn.utils import shuffle\n",
    "df = shuffle(df)\n"
   ]
  },
  {
   "cell_type": "code",
   "execution_count": 15,
   "metadata": {},
   "outputs": [
    {
     "data": {
      "text/plain": [
       "<matplotlib.axes._subplots.AxesSubplot at 0x7f970d8c10f0>"
      ]
     },
     "execution_count": 15,
     "metadata": {},
     "output_type": "execute_result"
    },
    {
     "data": {
      "image/png": "[encoded data removed]",
      "text/plain": [
       "<Figure size 432x288 with 1 Axes>"
      ]
     },
     "metadata": {},
     "output_type": "display_data"
    }
   ],
   "source": [
    "df['e'].plot.hist(bins=20)\n"
   ]
  },
  {
   "cell_type": "code",
   "execution_count": 16,
   "metadata": {},
   "outputs": [],
   "source": [
    "x_train,x_test,y_train,y_test=train_test_split(df.drop('e',axis=1),df['e'],test_size=0.25,random_state=42)"
   ]
  },
  {
   "cell_type": "code",
   "execution_count": 17,
   "metadata": {},
   "outputs": [],
   "source": [
    "lg=LogisticRegression()"
   ]
  },
  {
   "cell_type": "code",
   "execution_count": 18,
   "metadata": {},
   "outputs": [],
   "source": [
    "lg.fit(x_train,y_train)\n",
    "pred=lg.predict(x_test)"
   ]
  },
  {
   "cell_type": "code",
   "execution_count": 19,
   "metadata": {},
   "outputs": [
    {
     "data": {
      "text/plain": [
       "0.9912536443148688"
      ]
     },
     "execution_count": 19,
     "metadata": {},
     "output_type": "execute_result"
    }
   ],
   "source": [
    "accuracy_score(pred,y_test)"
   ]
  },
  {
   "cell_type": "code",
   "execution_count": 24,
   "metadata": {},
   "outputs": [
    {
     "data": {
      "text/html": [
       "<div>\n",
       "<style scoped>\n",
       "    .dataframe tbody tr th:only-of-type {\n",
       "        vertical-align: middle;\n",
       "    }\n",
       "\n",
       "    .dataframe tbody tr th {\n",
       "        vertical-align: top;\n",
       "    }\n",
       "\n",
       "    .dataframe thead th {\n",
       "        text-align: right;\n",
       "    }\n",
       "</style>\n",
       "<table border=\"1\" class=\"dataframe\">\n",
       "  <thead>\n",
       "    <tr style=\"text-align: right;\">\n",
       "      <th></th>\n",
       "      <th>Modelling Algo</th>\n",
       "      <th>Accuracy</th>\n",
       "    </tr>\n",
       "  </thead>\n",
       "  <tbody>\n",
       "    <tr>\n",
       "      <th>0</th>\n",
       "      <td>LogisticRegression</td>\n",
       "      <td>0.991254</td>\n",
       "    </tr>\n",
       "    <tr>\n",
       "      <th>1</th>\n",
       "      <td>LinearSVM</td>\n",
       "      <td>0.991254</td>\n",
       "    </tr>\n",
       "    <tr>\n",
       "      <th>2</th>\n",
       "      <td>rbfSVM</td>\n",
       "      <td>1.000000</td>\n",
       "    </tr>\n",
       "    <tr>\n",
       "      <th>3</th>\n",
       "      <td>KNearestNeighbors</td>\n",
       "      <td>1.000000</td>\n",
       "    </tr>\n",
       "    <tr>\n",
       "      <th>4</th>\n",
       "      <td>RandomForestClassifier</td>\n",
       "      <td>0.988338</td>\n",
       "    </tr>\n",
       "    <tr>\n",
       "      <th>5</th>\n",
       "      <td>DecisionTree</td>\n",
       "      <td>0.988338</td>\n",
       "    </tr>\n",
       "    <tr>\n",
       "      <th>6</th>\n",
       "      <td>GradientBoostingClassifier</td>\n",
       "      <td>0.997085</td>\n",
       "    </tr>\n",
       "    <tr>\n",
       "      <th>7</th>\n",
       "      <td>GaussianNB</td>\n",
       "      <td>0.854227</td>\n",
       "    </tr>\n",
       "  </tbody>\n",
       "</table>\n",
       "</div>"
      ],
      "text/plain": [
       "               Modelling Algo  Accuracy\n",
       "0          LogisticRegression  0.991254\n",
       "1                   LinearSVM  0.991254\n",
       "2                      rbfSVM  1.000000\n",
       "3           KNearestNeighbors  1.000000\n",
       "4      RandomForestClassifier  0.988338\n",
       "5                DecisionTree  0.988338\n",
       "6  GradientBoostingClassifier  0.997085\n",
       "7                  GaussianNB  0.854227"
      ]
     },
     "execution_count": 24,
     "metadata": {},
     "output_type": "execute_result"
    }
   ],
   "source": [
    "models=[LogisticRegression(),LinearSVC(),SVC(kernel='rbf'),KNeighborsClassifier(),RandomForestClassifier(),\n",
    "        DecisionTreeClassifier(),GradientBoostingClassifier(),GaussianNB()]\n",
    "model_names=['LogisticRegression','LinearSVM','rbfSVM','KNearestNeighbors','RandomForestClassifier','DecisionTree',\n",
    "             'GradientBoostingClassifier','GaussianNB']\n",
    "\n",
    "acc=[]\n",
    "d={}\n",
    "\n",
    "for model in range(len(models)):\n",
    "    clf=models[model]\n",
    "    clf.fit(x_train,y_train)\n",
    "    pred=clf.predict(x_test)\n",
    "    acc.append(accuracy_score(pred,y_test))\n",
    "     \n",
    "d={'Modelling Algo':model_names,'Accuracy':acc}\n",
    "acc_frame=pd.DataFrame(d)\n",
    "acc_frame"
   ]
  },
  {
   "cell_type": "code",
   "execution_count": 25,
   "metadata": {},
   "outputs": [],
   "source": [
    "def func(x_train,x_test,y_train,y_test,name_scaler):\n",
    "    models=[LogisticRegression(),LinearSVC(),SVC(kernel='rbf'),KNeighborsClassifier(),RandomForestClassifier(),\n",
    "        DecisionTreeClassifier(),GradientBoostingClassifier(),GaussianNB()]\n",
    "    acc_sc=[]\n",
    "    for model in range(len(models)):\n",
    "        clf=models[model]\n",
    "        clf.fit(x_train,y_train)\n",
    "        pred=clf.predict(x_test)\n",
    "        acc_sc.append(accuracy_score(pred,y_test))\n",
    "     \n",
    "    acc_frame[name_scaler]=np.array(acc_sc)"
   ]
  },
  {
   "cell_type": "code",
   "execution_count": 29,
   "metadata": {},
   "outputs": [],
   "source": [
    "scalers=[MinMaxScaler(),StandardScaler()]\n",
    "names=['Acc_Min_Max_Scaler','Acc_Standard_Scaler']\n",
    "for scale in range(len(scalers)):\n",
    "    scaler=scalers[scale]\n",
    "    scaler.fit(df)\n",
    "    scaled_df=scaler.transform(df)\n",
    "    X=scaled_df[:,0:3]\n",
    "    Y=df['e'].as_matrix()\n",
    "    x_train,x_test,y_train,y_test=train_test_split(X,Y,test_size=0.25,random_state=42)\n",
    "    func(x_train,x_test,y_train,y_test,names[scale])"
   ]
  },
  {
   "cell_type": "code",
   "execution_count": 30,
   "metadata": {},
   "outputs": [
    {
     "data": {
      "text/html": [
       "<div>\n",
       "<style scoped>\n",
       "    .dataframe tbody tr th:only-of-type {\n",
       "        vertical-align: middle;\n",
       "    }\n",
       "\n",
       "    .dataframe tbody tr th {\n",
       "        vertical-align: top;\n",
       "    }\n",
       "\n",
       "    .dataframe thead th {\n",
       "        text-align: right;\n",
       "    }\n",
       "</style>\n",
       "<table border=\"1\" class=\"dataframe\">\n",
       "  <thead>\n",
       "    <tr style=\"text-align: right;\">\n",
       "      <th></th>\n",
       "      <th>Modelling Algo</th>\n",
       "      <th>Accuracy</th>\n",
       "      <th>Acc_Min_Max_Scaler</th>\n",
       "      <th>Acc_Standard_Scaler</th>\n",
       "    </tr>\n",
       "  </thead>\n",
       "  <tbody>\n",
       "    <tr>\n",
       "      <th>0</th>\n",
       "      <td>LogisticRegression</td>\n",
       "      <td>0.991254</td>\n",
       "      <td>0.965015</td>\n",
       "      <td>0.985423</td>\n",
       "    </tr>\n",
       "    <tr>\n",
       "      <th>1</th>\n",
       "      <td>LinearSVM</td>\n",
       "      <td>0.991254</td>\n",
       "      <td>0.985423</td>\n",
       "      <td>0.991254</td>\n",
       "    </tr>\n",
       "    <tr>\n",
       "      <th>2</th>\n",
       "      <td>rbfSVM</td>\n",
       "      <td>1.000000</td>\n",
       "      <td>0.979592</td>\n",
       "      <td>1.000000</td>\n",
       "    </tr>\n",
       "    <tr>\n",
       "      <th>3</th>\n",
       "      <td>KNearestNeighbors</td>\n",
       "      <td>1.000000</td>\n",
       "      <td>0.997085</td>\n",
       "      <td>0.997085</td>\n",
       "    </tr>\n",
       "    <tr>\n",
       "      <th>4</th>\n",
       "      <td>RandomForestClassifier</td>\n",
       "      <td>0.988338</td>\n",
       "      <td>0.994169</td>\n",
       "      <td>1.000000</td>\n",
       "    </tr>\n",
       "    <tr>\n",
       "      <th>5</th>\n",
       "      <td>DecisionTree</td>\n",
       "      <td>0.988338</td>\n",
       "      <td>0.991254</td>\n",
       "      <td>0.985423</td>\n",
       "    </tr>\n",
       "    <tr>\n",
       "      <th>6</th>\n",
       "      <td>GradientBoostingClassifier</td>\n",
       "      <td>0.997085</td>\n",
       "      <td>0.994169</td>\n",
       "      <td>0.994169</td>\n",
       "    </tr>\n",
       "    <tr>\n",
       "      <th>7</th>\n",
       "      <td>GaussianNB</td>\n",
       "      <td>0.854227</td>\n",
       "      <td>0.854227</td>\n",
       "      <td>0.854227</td>\n",
       "    </tr>\n",
       "  </tbody>\n",
       "</table>\n",
       "</div>"
      ],
      "text/plain": [
       "               Modelling Algo  Accuracy  Acc_Min_Max_Scaler  \\\n",
       "0          LogisticRegression  0.991254            0.965015   \n",
       "1                   LinearSVM  0.991254            0.985423   \n",
       "2                      rbfSVM  1.000000            0.979592   \n",
       "3           KNearestNeighbors  1.000000            0.997085   \n",
       "4      RandomForestClassifier  0.988338            0.994169   \n",
       "5                DecisionTree  0.988338            0.991254   \n",
       "6  GradientBoostingClassifier  0.997085            0.994169   \n",
       "7                  GaussianNB  0.854227            0.854227   \n",
       "\n",
       "   Acc_Standard_Scaler  \n",
       "0             0.985423  \n",
       "1             0.991254  \n",
       "2             1.000000  \n",
       "3             0.997085  \n",
       "4             1.000000  \n",
       "5             0.985423  \n",
       "6             0.994169  \n",
       "7             0.854227  "
      ]
     },
     "execution_count": 30,
     "metadata": {},
     "output_type": "execute_result"
    }
   ],
   "source": [
    "acc_frame"
   ]
  },
  {
   "cell_type": "code",
   "execution_count": 31,
   "metadata": {},
   "outputs": [
    {
     "data": {
      "text/plain": [
       "GridSearchCV(cv=10, error_score='raise',\n",
       "       estimator=LogisticRegression(C=1.0, class_weight=None, dual=False, fit_intercept=True,\n",
       "          intercept_scaling=1, max_iter=100, multi_class='ovr', n_jobs=1,\n",
       "          penalty='l2', random_state=None, solver='liblinear', tol=0.0001,\n",
       "          verbose=0, warm_start=False),\n",
       "       fit_params=None, iid=True, n_jobs=1,\n",
       "       param_grid={'C': [0.001, 0.01, 0.1, 1, 10, 100, 1000], 'penalty': ['l1', 'l2']},\n",
       "       pre_dispatch='2*n_jobs', refit=True, return_train_score='warn',\n",
       "       scoring='accuracy', verbose=0)"
      ]
     },
     "execution_count": 31,
     "metadata": {},
     "output_type": "execute_result"
    }
   ],
   "source": [
    "params_dict={'C':[0.001, 0.01, 0.1, 1, 10, 100, 1000],'penalty':['l1','l2']}\n",
    "clf_lr=GridSearchCV(estimator=LogisticRegression(),param_grid=params_dict,scoring='accuracy',cv=10)\n",
    "clf_lr.fit(x_train,y_train)"
   ]
  },
  {
   "cell_type": "code",
   "execution_count": 32,
   "metadata": {},
   "outputs": [
    {
     "data": {
      "text/plain": [
       "{'C': 10, 'penalty': 'l2'}"
      ]
     },
     "execution_count": 32,
     "metadata": {},
     "output_type": "execute_result"
    }
   ],
   "source": [
    "clf_lr.best_params_"
   ]
  },
  {
   "cell_type": "code",
   "execution_count": 33,
   "metadata": {},
   "outputs": [
    {
     "data": {
      "text/plain": [
       "0.9892996108949417"
      ]
     },
     "execution_count": 33,
     "metadata": {},
     "output_type": "execute_result"
    }
   ],
   "source": [
    "clf_lr.best_score_"
   ]
  },
  {
   "cell_type": "code",
   "execution_count": 34,
   "metadata": {},
   "outputs": [
    {
     "name": "stderr",
     "output_type": "stream",
     "text": [
      "/home/dion/.local/lib/python3.6/site-packages/sklearn/model_selection/_search.py:761: DeprecationWarning: The grid_scores_ attribute was deprecated in version 0.18 in favor of the more elaborate cv_results_ attribute. The grid_scores_ attribute will not be available from 0.20\n",
      "  DeprecationWarning)\n"
     ]
    },
    {
     "data": {
      "text/plain": [
       "[mean: 0.54864, std: 0.00046, params: {'C': 0.001, 'penalty': 'l1'},\n",
       " mean: 0.87160, std: 0.02889, params: {'C': 0.001, 'penalty': 'l2'},\n",
       " mean: 0.85992, std: 0.02946, params: {'C': 0.01, 'penalty': 'l1'},\n",
       " mean: 0.93191, std: 0.02000, params: {'C': 0.01, 'penalty': 'l2'},\n",
       " mean: 0.97471, std: 0.01684, params: {'C': 0.1, 'penalty': 'l1'},\n",
       " mean: 0.97471, std: 0.01788, params: {'C': 0.1, 'penalty': 'l2'},\n",
       " mean: 0.98638, std: 0.00892, params: {'C': 1, 'penalty': 'l1'},\n",
       " mean: 0.98054, std: 0.01293, params: {'C': 1, 'penalty': 'l2'},\n",
       " mean: 0.98833, std: 0.01126, params: {'C': 10, 'penalty': 'l1'},\n",
       " mean: 0.98930, std: 0.00807, params: {'C': 10, 'penalty': 'l2'},\n",
       " mean: 0.98735, std: 0.01062, params: {'C': 100, 'penalty': 'l1'},\n",
       " mean: 0.98833, std: 0.01126, params: {'C': 100, 'penalty': 'l2'},\n",
       " mean: 0.98735, std: 0.01062, params: {'C': 1000, 'penalty': 'l1'},\n",
       " mean: 0.98735, std: 0.01062, params: {'C': 1000, 'penalty': 'l2'}]"
      ]
     },
     "execution_count": 34,
     "metadata": {},
     "output_type": "execute_result"
    }
   ],
   "source": [
    "clf_lr.grid_scores_"
   ]
  },
  {
   "cell_type": "code",
   "execution_count": 35,
   "metadata": {},
   "outputs": [
    {
     "data": {
      "text/plain": [
       "0.9912536443148688"
      ]
     },
     "execution_count": 35,
     "metadata": {},
     "output_type": "execute_result"
    }
   ],
   "source": [
    "pred=clf_lr.predict(x_test)\n",
    "accuracy_score(pred,y_test)"
   ]
  },
  {
   "cell_type": "code",
   "execution_count": 36,
   "metadata": {},
   "outputs": [
    {
     "data": {
      "text/plain": [
       "GridSearchCV(cv=10, error_score='raise',\n",
       "       estimator=KNeighborsClassifier(algorithm='auto', leaf_size=30, metric='minkowski',\n",
       "           metric_params=None, n_jobs=1, n_neighbors=5, p=2,\n",
       "           weights='uniform'),\n",
       "       fit_params=None, iid=True, n_jobs=1,\n",
       "       param_grid={'n_neighbors': [1, 2, 3, 4, 5, 6, 7, 8, 9, 10, 11, 12, 13, 14, 15, 16, 17, 18, 19, 20, 21, 22, 23, 24, 25, 26, 27, 28, 29, 30, 31, 32, 33, 34, 35, 36, 37, 38, 39, 40, 41, 42, 43, 44, 45, 46, 47, 48, 49, 50], 'n_jobs': [-1]},\n",
       "       pre_dispatch='2*n_jobs', refit=True, return_train_score='warn',\n",
       "       scoring='accuracy', verbose=0)"
      ]
     },
     "execution_count": 36,
     "metadata": {},
     "output_type": "execute_result"
    }
   ],
   "source": [
    "l=[i+1 for i in range(50)]\n",
    "params_dict={'n_neighbors':l,'n_jobs':[-1]}\n",
    "clf_knn=GridSearchCV(estimator=KNeighborsClassifier(),param_grid=params_dict,scoring='accuracy',cv=10)\n",
    "clf_knn.fit(x_train,y_train)"
   ]
  },
  {
   "cell_type": "code",
   "execution_count": 37,
   "metadata": {},
   "outputs": [
    {
     "data": {
      "text/plain": [
       "1.0"
      ]
     },
     "execution_count": 37,
     "metadata": {},
     "output_type": "execute_result"
    }
   ],
   "source": [
    "clf_knn.best_score_"
   ]
  },
  {
   "cell_type": "code",
   "execution_count": 38,
   "metadata": {},
   "outputs": [
    {
     "data": {
      "text/plain": [
       "{'n_jobs': -1, 'n_neighbors': 1}"
      ]
     },
     "execution_count": 38,
     "metadata": {},
     "output_type": "execute_result"
    }
   ],
   "source": [
    "clf_knn.best_params_"
   ]
  },
  {
   "cell_type": "code",
   "execution_count": 39,
   "metadata": {},
   "outputs": [
    {
     "name": "stderr",
     "output_type": "stream",
     "text": [
      "/home/dion/.local/lib/python3.6/site-packages/sklearn/model_selection/_search.py:761: DeprecationWarning: The grid_scores_ attribute was deprecated in version 0.18 in favor of the more elaborate cv_results_ attribute. The grid_scores_ attribute will not be available from 0.20\n",
      "  DeprecationWarning)\n"
     ]
    },
    {
     "data": {
      "text/plain": [
       "[mean: 1.00000, std: 0.00000, params: {'n_jobs': -1, 'n_neighbors': 1},\n",
       " mean: 1.00000, std: 0.00000, params: {'n_jobs': -1, 'n_neighbors': 2},\n",
       " mean: 0.99903, std: 0.00294, params: {'n_jobs': -1, 'n_neighbors': 3},\n",
       " mean: 0.99903, std: 0.00294, params: {'n_jobs': -1, 'n_neighbors': 4},\n",
       " mean: 0.99805, std: 0.00392, params: {'n_jobs': -1, 'n_neighbors': 5},\n",
       " mean: 0.99611, std: 0.00650, params: {'n_jobs': -1, 'n_neighbors': 6},\n",
       " mean: 0.99708, std: 0.00449, params: {'n_jobs': -1, 'n_neighbors': 7},\n",
       " mean: 0.99514, std: 0.00658, params: {'n_jobs': -1, 'n_neighbors': 8},\n",
       " mean: 0.99708, std: 0.00449, params: {'n_jobs': -1, 'n_neighbors': 9},\n",
       " mean: 0.99611, std: 0.00650, params: {'n_jobs': -1, 'n_neighbors': 10},\n",
       " mean: 0.99708, std: 0.00449, params: {'n_jobs': -1, 'n_neighbors': 11},\n",
       " mean: 0.99416, std: 0.00649, params: {'n_jobs': -1, 'n_neighbors': 12},\n",
       " mean: 0.99416, std: 0.00649, params: {'n_jobs': -1, 'n_neighbors': 13},\n",
       " mean: 0.99319, std: 0.00765, params: {'n_jobs': -1, 'n_neighbors': 14},\n",
       " mean: 0.98735, std: 0.00971, params: {'n_jobs': -1, 'n_neighbors': 15},\n",
       " mean: 0.98735, std: 0.00971, params: {'n_jobs': -1, 'n_neighbors': 16},\n",
       " mean: 0.98346, std: 0.00873, params: {'n_jobs': -1, 'n_neighbors': 17},\n",
       " mean: 0.98541, std: 0.00777, params: {'n_jobs': -1, 'n_neighbors': 18},\n",
       " mean: 0.98249, std: 0.00838, params: {'n_jobs': -1, 'n_neighbors': 19},\n",
       " mean: 0.98152, std: 0.00911, params: {'n_jobs': -1, 'n_neighbors': 20},\n",
       " mean: 0.98346, std: 0.00969, params: {'n_jobs': -1, 'n_neighbors': 21},\n",
       " mean: 0.98346, std: 0.00969, params: {'n_jobs': -1, 'n_neighbors': 22},\n",
       " mean: 0.98346, std: 0.00969, params: {'n_jobs': -1, 'n_neighbors': 23},\n",
       " mean: 0.98346, std: 0.00969, params: {'n_jobs': -1, 'n_neighbors': 24},\n",
       " mean: 0.98346, std: 0.00969, params: {'n_jobs': -1, 'n_neighbors': 25},\n",
       " mean: 0.98346, std: 0.00969, params: {'n_jobs': -1, 'n_neighbors': 26},\n",
       " mean: 0.98346, std: 0.00969, params: {'n_jobs': -1, 'n_neighbors': 27},\n",
       " mean: 0.98346, std: 0.00969, params: {'n_jobs': -1, 'n_neighbors': 28},\n",
       " mean: 0.98346, std: 0.00969, params: {'n_jobs': -1, 'n_neighbors': 29},\n",
       " mean: 0.98346, std: 0.00969, params: {'n_jobs': -1, 'n_neighbors': 30},\n",
       " mean: 0.98346, std: 0.00969, params: {'n_jobs': -1, 'n_neighbors': 31},\n",
       " mean: 0.98249, std: 0.00838, params: {'n_jobs': -1, 'n_neighbors': 32},\n",
       " mean: 0.98249, std: 0.00838, params: {'n_jobs': -1, 'n_neighbors': 33},\n",
       " mean: 0.98249, std: 0.00838, params: {'n_jobs': -1, 'n_neighbors': 34},\n",
       " mean: 0.98249, std: 0.00838, params: {'n_jobs': -1, 'n_neighbors': 35},\n",
       " mean: 0.98249, std: 0.00838, params: {'n_jobs': -1, 'n_neighbors': 36},\n",
       " mean: 0.98346, std: 0.00969, params: {'n_jobs': -1, 'n_neighbors': 37},\n",
       " mean: 0.98346, std: 0.00969, params: {'n_jobs': -1, 'n_neighbors': 38},\n",
       " mean: 0.98346, std: 0.00969, params: {'n_jobs': -1, 'n_neighbors': 39},\n",
       " mean: 0.98346, std: 0.00969, params: {'n_jobs': -1, 'n_neighbors': 40},\n",
       " mean: 0.98346, std: 0.00969, params: {'n_jobs': -1, 'n_neighbors': 41},\n",
       " mean: 0.98346, std: 0.00969, params: {'n_jobs': -1, 'n_neighbors': 42},\n",
       " mean: 0.98346, std: 0.00969, params: {'n_jobs': -1, 'n_neighbors': 43},\n",
       " mean: 0.98346, std: 0.00969, params: {'n_jobs': -1, 'n_neighbors': 44},\n",
       " mean: 0.98346, std: 0.00969, params: {'n_jobs': -1, 'n_neighbors': 45},\n",
       " mean: 0.98346, std: 0.00969, params: {'n_jobs': -1, 'n_neighbors': 46},\n",
       " mean: 0.98346, std: 0.00969, params: {'n_jobs': -1, 'n_neighbors': 47},\n",
       " mean: 0.98346, std: 0.00969, params: {'n_jobs': -1, 'n_neighbors': 48},\n",
       " mean: 0.98346, std: 0.00969, params: {'n_jobs': -1, 'n_neighbors': 49},\n",
       " mean: 0.98346, std: 0.00969, params: {'n_jobs': -1, 'n_neighbors': 50}]"
      ]
     },
     "execution_count": 39,
     "metadata": {},
     "output_type": "execute_result"
    }
   ],
   "source": [
    "clf_knn.grid_scores_"
   ]
  },
  {
   "cell_type": "code",
   "execution_count": 40,
   "metadata": {},
   "outputs": [
    {
     "data": {
      "text/plain": [
       "1.0"
      ]
     },
     "execution_count": 40,
     "metadata": {},
     "output_type": "execute_result"
    }
   ],
   "source": [
    "pred=clf_knn.predict(x_test)\n",
    "accuracy_score(pred,y_test)"
   ]
  },
  {
   "cell_type": "code",
   "execution_count": 41,
   "metadata": {},
   "outputs": [
    {
     "data": {
      "text/plain": [
       "GridSearchCV(cv=10, error_score='raise',\n",
       "       estimator=SVC(C=1.0, cache_size=200, class_weight=None, coef0=0.0,\n",
       "  decision_function_shape='ovr', degree=3, gamma='auto', kernel='rbf',\n",
       "  max_iter=-1, probability=False, random_state=None, shrinking=True,\n",
       "  tol=0.001, verbose=False),\n",
       "       fit_params=None, iid=True, n_jobs=1,\n",
       "       param_grid={'C': [0.001, 0.01, 0.1, 1, 10, 100], 'gamma': [0.001, 0.01, 0.1, 1, 10, 100], 'kernel': ['linear', 'rbf']},\n",
       "       pre_dispatch='2*n_jobs', refit=True, return_train_score='warn',\n",
       "       scoring='accuracy', verbose=0)"
      ]
     },
     "execution_count": 41,
     "metadata": {},
     "output_type": "execute_result"
    }
   ],
   "source": [
    "params_dict={'C':[0.001,0.01,0.1,1,10,100],'gamma':[0.001,0.01,0.1,1,10,100],'kernel':['linear','rbf']}\n",
    "clf=GridSearchCV(estimator=SVC(),param_grid=params_dict,scoring='accuracy',cv=10)\n",
    "clf.fit(x_train,y_train)\n"
   ]
  },
  {
   "cell_type": "code",
   "execution_count": 42,
   "metadata": {},
   "outputs": [
    {
     "data": {
      "text/plain": [
       "1.0"
      ]
     },
     "execution_count": 42,
     "metadata": {},
     "output_type": "execute_result"
    }
   ],
   "source": [
    "clf.best_score_"
   ]
  },
  {
   "cell_type": "code",
   "execution_count": 43,
   "metadata": {},
   "outputs": [
    {
     "data": {
      "text/plain": [
       "{'C': 1, 'gamma': 10, 'kernel': 'rbf'}"
      ]
     },
     "execution_count": 43,
     "metadata": {},
     "output_type": "execute_result"
    }
   ],
   "source": [
    "clf.best_params_"
   ]
  },
  {
   "cell_type": "code",
   "execution_count": 44,
   "metadata": {},
   "outputs": [
    {
     "data": {
      "text/plain": [
       "GridSearchCV(cv=10, error_score='raise',\n",
       "       estimator=SVC(C=1.0, cache_size=200, class_weight=None, coef0=0.0,\n",
       "  decision_function_shape='ovr', degree=3, gamma='auto', kernel='rbf',\n",
       "  max_iter=-1, probability=False, random_state=None, shrinking=True,\n",
       "  tol=0.001, verbose=False),\n",
       "       fit_params=None, iid=True, n_jobs=1,\n",
       "       param_grid={'C': [0.9, 0.92, 0.96, 0.98, 1.0, 1.2, 1.5], 'gamma': [0.9, 0.92, 0.96, 0.98, 1.0, 1.2, 1.5], 'kernel': ['linear', 'rbf']},\n",
       "       pre_dispatch='2*n_jobs', refit=True, return_train_score='warn',\n",
       "       scoring='accuracy', verbose=0)"
      ]
     },
     "execution_count": 44,
     "metadata": {},
     "output_type": "execute_result"
    }
   ],
   "source": [
    "params_dict={'C':[0.90,0.92,0.96,0.98,1.0,1.2,1.5],'gamma':[0.90,0.92,0.96,0.98,1.0,1.2,1.5],'kernel':['linear','rbf']}\n",
    "clf_svm=GridSearchCV(estimator=SVC(),param_grid=params_dict,scoring='accuracy',cv=10)\n",
    "clf_svm.fit(x_train,y_train)"
   ]
  },
  {
   "cell_type": "code",
   "execution_count": 45,
   "metadata": {},
   "outputs": [
    {
     "data": {
      "text/plain": [
       "0.9990272373540856"
      ]
     },
     "execution_count": 45,
     "metadata": {},
     "output_type": "execute_result"
    }
   ],
   "source": [
    "clf_svm.best_score_"
   ]
  },
  {
   "cell_type": "code",
   "execution_count": 46,
   "metadata": {},
   "outputs": [
    {
     "data": {
      "text/plain": [
       "{'C': 0.9, 'gamma': 1.5, 'kernel': 'rbf'}"
      ]
     },
     "execution_count": 46,
     "metadata": {},
     "output_type": "execute_result"
    }
   ],
   "source": [
    "clf_svm.best_params_"
   ]
  },
  {
   "cell_type": "code",
   "execution_count": 47,
   "metadata": {},
   "outputs": [
    {
     "name": "stderr",
     "output_type": "stream",
     "text": [
      "/home/dion/.local/lib/python3.6/site-packages/sklearn/model_selection/_search.py:761: DeprecationWarning: The grid_scores_ attribute was deprecated in version 0.18 in favor of the more elaborate cv_results_ attribute. The grid_scores_ attribute will not be available from 0.20\n",
      "  DeprecationWarning)\n"
     ]
    },
    {
     "data": {
      "text/plain": [
       "[mean: 0.98346, std: 0.01063, params: {'C': 0.9, 'gamma': 0.9, 'kernel': 'linear'},\n",
       " mean: 0.99805, std: 0.00388, params: {'C': 0.9, 'gamma': 0.9, 'kernel': 'rbf'},\n",
       " mean: 0.98346, std: 0.01063, params: {'C': 0.9, 'gamma': 0.92, 'kernel': 'linear'},\n",
       " mean: 0.99805, std: 0.00388, params: {'C': 0.9, 'gamma': 0.92, 'kernel': 'rbf'},\n",
       " mean: 0.98346, std: 0.01063, params: {'C': 0.9, 'gamma': 0.96, 'kernel': 'linear'},\n",
       " mean: 0.99805, std: 0.00388, params: {'C': 0.9, 'gamma': 0.96, 'kernel': 'rbf'},\n",
       " mean: 0.98346, std: 0.01063, params: {'C': 0.9, 'gamma': 0.98, 'kernel': 'linear'},\n",
       " mean: 0.99708, std: 0.00446, params: {'C': 0.9, 'gamma': 0.98, 'kernel': 'rbf'},\n",
       " mean: 0.98346, std: 0.01063, params: {'C': 0.9, 'gamma': 1.0, 'kernel': 'linear'},\n",
       " mean: 0.99708, std: 0.00446, params: {'C': 0.9, 'gamma': 1.0, 'kernel': 'rbf'},\n",
       " mean: 0.98346, std: 0.01063, params: {'C': 0.9, 'gamma': 1.2, 'kernel': 'linear'},\n",
       " mean: 0.99708, std: 0.00446, params: {'C': 0.9, 'gamma': 1.2, 'kernel': 'rbf'},\n",
       " mean: 0.98346, std: 0.01063, params: {'C': 0.9, 'gamma': 1.5, 'kernel': 'linear'},\n",
       " mean: 0.99903, std: 0.00294, params: {'C': 0.9, 'gamma': 1.5, 'kernel': 'rbf'},\n",
       " mean: 0.98346, std: 0.01063, params: {'C': 0.92, 'gamma': 0.9, 'kernel': 'linear'},\n",
       " mean: 0.99805, std: 0.00388, params: {'C': 0.92, 'gamma': 0.9, 'kernel': 'rbf'},\n",
       " mean: 0.98346, std: 0.01063, params: {'C': 0.92, 'gamma': 0.92, 'kernel': 'linear'},\n",
       " mean: 0.99805, std: 0.00388, params: {'C': 0.92, 'gamma': 0.92, 'kernel': 'rbf'},\n",
       " mean: 0.98346, std: 0.01063, params: {'C': 0.92, 'gamma': 0.96, 'kernel': 'linear'},\n",
       " mean: 0.99708, std: 0.00446, params: {'C': 0.92, 'gamma': 0.96, 'kernel': 'rbf'},\n",
       " mean: 0.98346, std: 0.01063, params: {'C': 0.92, 'gamma': 0.98, 'kernel': 'linear'},\n",
       " mean: 0.99708, std: 0.00446, params: {'C': 0.92, 'gamma': 0.98, 'kernel': 'rbf'},\n",
       " mean: 0.98346, std: 0.01063, params: {'C': 0.92, 'gamma': 1.0, 'kernel': 'linear'},\n",
       " mean: 0.99708, std: 0.00446, params: {'C': 0.92, 'gamma': 1.0, 'kernel': 'rbf'},\n",
       " mean: 0.98346, std: 0.01063, params: {'C': 0.92, 'gamma': 1.2, 'kernel': 'linear'},\n",
       " mean: 0.99708, std: 0.00446, params: {'C': 0.92, 'gamma': 1.2, 'kernel': 'rbf'},\n",
       " mean: 0.98346, std: 0.01063, params: {'C': 0.92, 'gamma': 1.5, 'kernel': 'linear'},\n",
       " mean: 0.99903, std: 0.00294, params: {'C': 0.92, 'gamma': 1.5, 'kernel': 'rbf'},\n",
       " mean: 0.98346, std: 0.01063, params: {'C': 0.96, 'gamma': 0.9, 'kernel': 'linear'},\n",
       " mean: 0.99805, std: 0.00388, params: {'C': 0.96, 'gamma': 0.9, 'kernel': 'rbf'},\n",
       " mean: 0.98346, std: 0.01063, params: {'C': 0.96, 'gamma': 0.92, 'kernel': 'linear'},\n",
       " mean: 0.99708, std: 0.00446, params: {'C': 0.96, 'gamma': 0.92, 'kernel': 'rbf'},\n",
       " mean: 0.98346, std: 0.01063, params: {'C': 0.96, 'gamma': 0.96, 'kernel': 'linear'},\n",
       " mean: 0.99708, std: 0.00446, params: {'C': 0.96, 'gamma': 0.96, 'kernel': 'rbf'},\n",
       " mean: 0.98346, std: 0.01063, params: {'C': 0.96, 'gamma': 0.98, 'kernel': 'linear'},\n",
       " mean: 0.99708, std: 0.00446, params: {'C': 0.96, 'gamma': 0.98, 'kernel': 'rbf'},\n",
       " mean: 0.98346, std: 0.01063, params: {'C': 0.96, 'gamma': 1.0, 'kernel': 'linear'},\n",
       " mean: 0.99708, std: 0.00446, params: {'C': 0.96, 'gamma': 1.0, 'kernel': 'rbf'},\n",
       " mean: 0.98346, std: 0.01063, params: {'C': 0.96, 'gamma': 1.2, 'kernel': 'linear'},\n",
       " mean: 0.99708, std: 0.00446, params: {'C': 0.96, 'gamma': 1.2, 'kernel': 'rbf'},\n",
       " mean: 0.98346, std: 0.01063, params: {'C': 0.96, 'gamma': 1.5, 'kernel': 'linear'},\n",
       " mean: 0.99903, std: 0.00294, params: {'C': 0.96, 'gamma': 1.5, 'kernel': 'rbf'},\n",
       " mean: 0.98346, std: 0.01063, params: {'C': 0.98, 'gamma': 0.9, 'kernel': 'linear'},\n",
       " mean: 0.99708, std: 0.00446, params: {'C': 0.98, 'gamma': 0.9, 'kernel': 'rbf'},\n",
       " mean: 0.98346, std: 0.01063, params: {'C': 0.98, 'gamma': 0.92, 'kernel': 'linear'},\n",
       " mean: 0.99708, std: 0.00446, params: {'C': 0.98, 'gamma': 0.92, 'kernel': 'rbf'},\n",
       " mean: 0.98346, std: 0.01063, params: {'C': 0.98, 'gamma': 0.96, 'kernel': 'linear'},\n",
       " mean: 0.99708, std: 0.00446, params: {'C': 0.98, 'gamma': 0.96, 'kernel': 'rbf'},\n",
       " mean: 0.98346, std: 0.01063, params: {'C': 0.98, 'gamma': 0.98, 'kernel': 'linear'},\n",
       " mean: 0.99708, std: 0.00446, params: {'C': 0.98, 'gamma': 0.98, 'kernel': 'rbf'},\n",
       " mean: 0.98346, std: 0.01063, params: {'C': 0.98, 'gamma': 1.0, 'kernel': 'linear'},\n",
       " mean: 0.99708, std: 0.00446, params: {'C': 0.98, 'gamma': 1.0, 'kernel': 'rbf'},\n",
       " mean: 0.98346, std: 0.01063, params: {'C': 0.98, 'gamma': 1.2, 'kernel': 'linear'},\n",
       " mean: 0.99805, std: 0.00388, params: {'C': 0.98, 'gamma': 1.2, 'kernel': 'rbf'},\n",
       " mean: 0.98346, std: 0.01063, params: {'C': 0.98, 'gamma': 1.5, 'kernel': 'linear'},\n",
       " mean: 0.99903, std: 0.00294, params: {'C': 0.98, 'gamma': 1.5, 'kernel': 'rbf'},\n",
       " mean: 0.98346, std: 0.01063, params: {'C': 1.0, 'gamma': 0.9, 'kernel': 'linear'},\n",
       " mean: 0.99708, std: 0.00446, params: {'C': 1.0, 'gamma': 0.9, 'kernel': 'rbf'},\n",
       " mean: 0.98346, std: 0.01063, params: {'C': 1.0, 'gamma': 0.92, 'kernel': 'linear'},\n",
       " mean: 0.99708, std: 0.00446, params: {'C': 1.0, 'gamma': 0.92, 'kernel': 'rbf'},\n",
       " mean: 0.98346, std: 0.01063, params: {'C': 1.0, 'gamma': 0.96, 'kernel': 'linear'},\n",
       " mean: 0.99708, std: 0.00446, params: {'C': 1.0, 'gamma': 0.96, 'kernel': 'rbf'},\n",
       " mean: 0.98346, std: 0.01063, params: {'C': 1.0, 'gamma': 0.98, 'kernel': 'linear'},\n",
       " mean: 0.99708, std: 0.00446, params: {'C': 1.0, 'gamma': 0.98, 'kernel': 'rbf'},\n",
       " mean: 0.98346, std: 0.01063, params: {'C': 1.0, 'gamma': 1.0, 'kernel': 'linear'},\n",
       " mean: 0.99708, std: 0.00446, params: {'C': 1.0, 'gamma': 1.0, 'kernel': 'rbf'},\n",
       " mean: 0.98346, std: 0.01063, params: {'C': 1.0, 'gamma': 1.2, 'kernel': 'linear'},\n",
       " mean: 0.99805, std: 0.00388, params: {'C': 1.0, 'gamma': 1.2, 'kernel': 'rbf'},\n",
       " mean: 0.98346, std: 0.01063, params: {'C': 1.0, 'gamma': 1.5, 'kernel': 'linear'},\n",
       " mean: 0.99903, std: 0.00294, params: {'C': 1.0, 'gamma': 1.5, 'kernel': 'rbf'},\n",
       " mean: 0.98346, std: 0.01063, params: {'C': 1.2, 'gamma': 0.9, 'kernel': 'linear'},\n",
       " mean: 0.99805, std: 0.00392, params: {'C': 1.2, 'gamma': 0.9, 'kernel': 'rbf'},\n",
       " mean: 0.98346, std: 0.01063, params: {'C': 1.2, 'gamma': 0.92, 'kernel': 'linear'},\n",
       " mean: 0.99805, std: 0.00392, params: {'C': 1.2, 'gamma': 0.92, 'kernel': 'rbf'},\n",
       " mean: 0.98346, std: 0.01063, params: {'C': 1.2, 'gamma': 0.96, 'kernel': 'linear'},\n",
       " mean: 0.99903, std: 0.00294, params: {'C': 1.2, 'gamma': 0.96, 'kernel': 'rbf'},\n",
       " mean: 0.98346, std: 0.01063, params: {'C': 1.2, 'gamma': 0.98, 'kernel': 'linear'},\n",
       " mean: 0.99903, std: 0.00294, params: {'C': 1.2, 'gamma': 0.98, 'kernel': 'rbf'},\n",
       " mean: 0.98346, std: 0.01063, params: {'C': 1.2, 'gamma': 1.0, 'kernel': 'linear'},\n",
       " mean: 0.99903, std: 0.00294, params: {'C': 1.2, 'gamma': 1.0, 'kernel': 'rbf'},\n",
       " mean: 0.98346, std: 0.01063, params: {'C': 1.2, 'gamma': 1.2, 'kernel': 'linear'},\n",
       " mean: 0.99903, std: 0.00294, params: {'C': 1.2, 'gamma': 1.2, 'kernel': 'rbf'},\n",
       " mean: 0.98346, std: 0.01063, params: {'C': 1.2, 'gamma': 1.5, 'kernel': 'linear'},\n",
       " mean: 0.99903, std: 0.00294, params: {'C': 1.2, 'gamma': 1.5, 'kernel': 'rbf'},\n",
       " mean: 0.98346, std: 0.01063, params: {'C': 1.5, 'gamma': 0.9, 'kernel': 'linear'},\n",
       " mean: 0.99903, std: 0.00294, params: {'C': 1.5, 'gamma': 0.9, 'kernel': 'rbf'},\n",
       " mean: 0.98346, std: 0.01063, params: {'C': 1.5, 'gamma': 0.92, 'kernel': 'linear'},\n",
       " mean: 0.99903, std: 0.00294, params: {'C': 1.5, 'gamma': 0.92, 'kernel': 'rbf'},\n",
       " mean: 0.98346, std: 0.01063, params: {'C': 1.5, 'gamma': 0.96, 'kernel': 'linear'},\n",
       " mean: 0.99903, std: 0.00294, params: {'C': 1.5, 'gamma': 0.96, 'kernel': 'rbf'},\n",
       " mean: 0.98346, std: 0.01063, params: {'C': 1.5, 'gamma': 0.98, 'kernel': 'linear'},\n",
       " mean: 0.99903, std: 0.00294, params: {'C': 1.5, 'gamma': 0.98, 'kernel': 'rbf'},\n",
       " mean: 0.98346, std: 0.01063, params: {'C': 1.5, 'gamma': 1.0, 'kernel': 'linear'},\n",
       " mean: 0.99903, std: 0.00294, params: {'C': 1.5, 'gamma': 1.0, 'kernel': 'rbf'},\n",
       " mean: 0.98346, std: 0.01063, params: {'C': 1.5, 'gamma': 1.2, 'kernel': 'linear'},\n",
       " mean: 0.99903, std: 0.00294, params: {'C': 1.5, 'gamma': 1.2, 'kernel': 'rbf'},\n",
       " mean: 0.98346, std: 0.01063, params: {'C': 1.5, 'gamma': 1.5, 'kernel': 'linear'},\n",
       " mean: 0.99903, std: 0.00294, params: {'C': 1.5, 'gamma': 1.5, 'kernel': 'rbf'}]"
      ]
     },
     "execution_count": 47,
     "metadata": {},
     "output_type": "execute_result"
    }
   ],
   "source": [
    "clf_svm.grid_scores_"
   ]
  },
  {
   "cell_type": "code",
   "execution_count": 48,
   "metadata": {},
   "outputs": [
    {
     "data": {
      "text/plain": [
       "1.0"
      ]
     },
     "execution_count": 48,
     "metadata": {},
     "output_type": "execute_result"
    }
   ],
   "source": [
    "pred=clf_svm.predict(x_test)\n",
    "accuracy_score(pred,y_test)"
   ]
  },
  {
   "cell_type": "code",
   "execution_count": 49,
   "metadata": {},
   "outputs": [
    {
     "data": {
      "text/plain": [
       "GridSearchCV(cv=10, error_score='raise',\n",
       "       estimator=RandomForestClassifier(bootstrap=True, class_weight=None, criterion='gini',\n",
       "            max_depth=None, max_features='auto', max_leaf_nodes=None,\n",
       "            min_impurity_decrease=0.0, min_impurity_split=None,\n",
       "            min_samples_leaf=1, min_samples_split=2,\n",
       "            min_weight_fraction_leaf=0.0, n_estimators=10, n_jobs=-1,\n",
       "            oob_score=False, random_state=None, verbose=0,\n",
       "            warm_start=False),\n",
       "       fit_params=None, iid=True, n_jobs=1,\n",
       "       param_grid={'n_estimators': [500], 'max_features': ['auto', 'sqrt', 'log2']},\n",
       "       pre_dispatch='2*n_jobs', refit=True, return_train_score='warn',\n",
       "       scoring='accuracy', verbose=0)"
      ]
     },
     "execution_count": 49,
     "metadata": {},
     "output_type": "execute_result"
    }
   ],
   "source": [
    "params_dict={'n_estimators':[500],'max_features':['auto','sqrt','log2']}\n",
    "clf_rf=GridSearchCV(estimator=RandomForestClassifier(n_jobs=-1),param_grid=params_dict,scoring='accuracy',cv=10)\n",
    "clf_rf.fit(x_train,y_train)"
   ]
  },
  {
   "cell_type": "code",
   "execution_count": 50,
   "metadata": {},
   "outputs": [
    {
     "name": "stderr",
     "output_type": "stream",
     "text": [
      "/home/dion/.local/lib/python3.6/site-packages/sklearn/model_selection/_search.py:761: DeprecationWarning: The grid_scores_ attribute was deprecated in version 0.18 in favor of the more elaborate cv_results_ attribute. The grid_scores_ attribute will not be available from 0.20\n",
      "  DeprecationWarning)\n"
     ]
    },
    {
     "data": {
      "text/plain": [
       "[mean: 0.99027, std: 0.00980, params: {'max_features': 'auto', 'n_estimators': 500},\n",
       " mean: 0.98930, std: 0.00926, params: {'max_features': 'sqrt', 'n_estimators': 500},\n",
       " mean: 0.98930, std: 0.00926, params: {'max_features': 'log2', 'n_estimators': 500}]"
      ]
     },
     "execution_count": 50,
     "metadata": {},
     "output_type": "execute_result"
    }
   ],
   "source": [
    "clf_rf.best_score_\n",
    "clf_rf.best_params_\n",
    "clf_rf.grid_scores_"
   ]
  },
  {
   "cell_type": "code",
   "execution_count": 51,
   "metadata": {},
   "outputs": [
    {
     "data": {
      "text/plain": [
       "0.9941690962099126"
      ]
     },
     "execution_count": 51,
     "metadata": {},
     "output_type": "execute_result"
    }
   ],
   "source": [
    "pred=clf_rf.predict(x_test)\n",
    "accuracy_score(pred,y_test) "
   ]
  },
  {
   "cell_type": "code",
   "execution_count": 52,
   "metadata": {},
   "outputs": [
    {
     "data": {
      "text/plain": [
       "GridSearchCV(cv=10, error_score='raise',\n",
       "       estimator=GradientBoostingClassifier(criterion='friedman_mse', init=None,\n",
       "              learning_rate=0.1, loss='deviance', max_depth=3,\n",
       "              max_features=None, max_leaf_nodes=None,\n",
       "              min_impurity_decrease=0.0, min_impurity_split=None,\n",
       "              min_samples_leaf=1, min_samples_split=2,\n",
       "              min_weight_fraction_leaf=0.0, n_estimators=100,\n",
       "              presort='auto', random_state=None, subsample=1.0, verbose=0,\n",
       "              warm_start=False),\n",
       "       fit_params=None, iid=True, n_jobs=1,\n",
       "       param_grid={'n_estimators': [500]}, pre_dispatch='2*n_jobs',\n",
       "       refit=True, return_train_score='warn', scoring=None, verbose=0)"
      ]
     },
     "execution_count": 52,
     "metadata": {},
     "output_type": "execute_result"
    }
   ],
   "source": [
    "clf_gb=GridSearchCV(estimator=GradientBoostingClassifier(),cv=10,param_grid=dict({'n_estimators':[500]}))\n",
    "clf_gb.fit(x_train,y_train)"
   ]
  },
  {
   "cell_type": "code",
   "execution_count": 53,
   "metadata": {},
   "outputs": [
    {
     "data": {
      "text/plain": [
       "0.9941690962099126"
      ]
     },
     "execution_count": 53,
     "metadata": {},
     "output_type": "execute_result"
    }
   ],
   "source": [
    "clf_gb.best_score_\n",
    "\n",
    "clf_gb.best_params_\n",
    "\n",
    "pred=clf_gb.predict(x_test)\n",
    "accuracy_score(pred,y_test)"
   ]
  },
  {
   "cell_type": "code",
   "execution_count": null,
   "metadata": {},
   "outputs": [],
   "source": []
  }
 ],
 "metadata": {
  "kernelspec": {
   "display_name": "Python 3",
   "language": "python",
   "name": "python3"
  },
  "language_info": {
   "codemirror_mode": {
    "name": "ipython",
    "version": 3
   },
   "file_extension": ".py",
   "mimetype": "text/x-python",
   "name": "python",
   "nbconvert_exporter": "python",
   "pygments_lexer": "ipython3",
   "version": "3.6.7"
  }
 },
 "nbformat": 4,
 "nbformat_minor": 2
}
